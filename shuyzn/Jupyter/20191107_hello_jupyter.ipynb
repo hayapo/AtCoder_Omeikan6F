{
 "cells": [
  {
   "cell_type": "markdown",
   "metadata": {},
   "source": [
    "# _初めてのJupyter Notebook_"
   ]
  },
  {
   "cell_type": "markdown",
   "metadata": {},
   "source": [
    "# 目的\n",
    "・Python学習のため（特に対話型の実行環境が欲しかった）\n",
    "\n",
    "・データ分析とか今後してみたいため"
   ]
  },
  {
   "cell_type": "markdown",
   "metadata": {},
   "source": [
    "# 参考にしたもの\n",
    "[jupyter notebook導入(Anaconda)](https://qiita.com/STInverSpinel/items/9801f30c2fd1a378518d)\n",
    "\n",
    "[導入後の設定①](https://qiita.com/mitama/items/a8129e50afcc462e02d6)\n",
    "\n",
    "[導入後の設定②](https://qiita.com/skytomo221/items/8f07734a63a3e7c15860)\n",
    "\n",
    "[Markdown記法](https://kojika17.com/2013/01/starting-markdown.html)\n"
   ]
  }
 ],
 "metadata": {
  "kernelspec": {
   "display_name": "Python 3",
   "language": "python",
   "name": "python3"
  },
  "language_info": {
   "codemirror_mode": {
    "name": "ipython",
    "version": 3
   },
   "file_extension": ".py",
   "mimetype": "text/x-python",
   "name": "python",
   "nbconvert_exporter": "python",
   "pygments_lexer": "ipython3",
   "version": "3.7.4"
  }
 },
 "nbformat": 4,
 "nbformat_minor": 2
}
