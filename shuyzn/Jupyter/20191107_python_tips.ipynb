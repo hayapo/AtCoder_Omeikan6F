{
 "cells": [
  {
   "cell_type": "markdown",
   "metadata": {},
   "source": [
    "[入力関連](https://qiita.com/kyuna/items/8ee8916c2f4e36321a1c#2-2-5-1%E8%A1%8C%E3%81%AB%E6%B1%BA%E3%81%BE%E3%81%A3%E3%81%9F%E6%95%B0%E3%81%AE%E6%95%B4%E6%95%B0)"
   ]
  }
 ],
 "metadata": {
  "kernelspec": {
   "display_name": "Python 3",
   "language": "python",
   "name": "python3"
  },
  "language_info": {
   "codemirror_mode": {
    "name": "ipython",
    "version": 3
   },
   "file_extension": ".py",
   "mimetype": "text/x-python",
   "name": "python",
   "nbconvert_exporter": "python",
   "pygments_lexer": "ipython3",
   "version": "3.7.4"
  }
 },
 "nbformat": 4,
 "nbformat_minor": 2
}
