{
 "cells": [
  {
   "cell_type": "markdown",
   "metadata": {},
   "source": [
    "[Jupyter noteboolのショートカット集](https://qiita.com/forusufia/items/bea3f6fd6160cd2f5843)\n",
    "\n",
    "[jupyterでnbextensionsを使うには](https://qiita.com/SaitoTsutomu/items/1326e05eb992a8aa849d)\n",
    "\n",
    "[Jupyterの拡張機能①](https://qiita.com/simonritchie/items/d7dccb798f0b9c8b1ec5)\n",
    "\n",
    "[Jupyterの拡張機能②](https://qiita.com/simonritchie/items/88161c806197a0b84174)"
   ]
  }
 ],
 "metadata": {
  "kernelspec": {
   "display_name": "Python 3",
   "language": "python",
   "name": "python3"
  },
  "language_info": {
   "codemirror_mode": {
    "name": "ipython",
    "version": 3
   },
   "file_extension": ".py",
   "mimetype": "text/x-python",
   "name": "python",
   "nbconvert_exporter": "python",
   "pygments_lexer": "ipython3",
   "version": "3.7.4"
  }
 },
 "nbformat": 4,
 "nbformat_minor": 2
}
